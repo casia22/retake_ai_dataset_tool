{
 "cells": [
  {
   "cell_type": "code",
   "execution_count": 1,
   "id": "86016154-da77-4923-9c14-ebd4490732f6",
   "metadata": {
    "tags": []
   },
   "outputs": [],
   "source": [
    "# 测试是否可以一次多个ocr\n",
    "import os\n",
    "import time\n",
    "import numpy as np\n",
    "\n",
    "import easyocr,cv2"
   ]
  },
  {
   "cell_type": "code",
   "execution_count": 4,
   "id": "648d6284-da4f-4aaa-8ebd-fc36450a1b9f",
   "metadata": {
    "tags": []
   },
   "outputs": [],
   "source": [
    "reader = easyocr.Reader(['ch_sim','en'], gpu=True, detect_network = 'craft')\n",
    "path1 = '/disk2/workspace/csgoai/stone/csgo_ai/sample_data/./data/roth-1679837416-919064000/1679838637-040783600.jpg'\n",
    "path2 = '/disk2/workspace/csgoai/stone/csgo_ai/sample_data/./data/roth-1679837416-919064000/1679838637-288120500.jpg'\n",
    "img1 = cv2.imread(path1)\n",
    "img2 = cv2.imread(path2)\n",
    "\n",
    "path = '/disk2/workspace/csgoai/stone/csgo_ai/sample_data/./data/roth-1679837416-919064000/'\n",
    "\n",
    "#paragraph=reader.readtext_batched(self.imglist,batch_size=batchsize)\n",
    "#imgs = np.array([img1, img2,img2,img2,img2,img1, img2,img2,img2,img2,img1, img2,img2,img2,img2])# (101, 1080, 1920, 3)\n",
    "#imgs = [img1, img2,img2,img2,img2]"
   ]
  },
  {
   "cell_type": "code",
   "execution_count": 6,
   "id": "5c16d8d5-505f-41ef-9617-d6f7991f9ef3",
   "metadata": {
    "tags": []
   },
   "outputs": [
    {
     "name": "stdout",
     "output_type": "stream",
     "text": [
      "8.59 s ± 753 ms per loop (mean ± std. dev. of 7 runs, 1 loop each)\n"
     ]
    }
   ],
   "source": [
    "gray = cv2.cvtColor(img1, cv2.COLOR_BGR2GRAY)\n",
    "\n",
    "\n",
    "%timeit out =reader.readtext(img1[:,:,0], detail=0)"
   ]
  },
  {
   "cell_type": "code",
   "execution_count": 44,
   "id": "25f9b3e5-c7f6-4fc7-981a-01bfbd2e0fbd",
   "metadata": {
    "tags": []
   },
   "outputs": [
    {
     "data": {
      "text/plain": [
       "(1080, 1920, 3)"
      ]
     },
     "execution_count": 44,
     "metadata": {},
     "output_type": "execute_result"
    }
   ],
   "source": [
    "img1.shape"
   ]
  },
  {
   "cell_type": "code",
   "execution_count": null,
   "id": "4ee55bb6-dd41-4893-ad6e-d6351f85493c",
   "metadata": {},
   "outputs": [],
   "source": [
    "# 测试是否可以一次多个ocr\n",
    "import os\n",
    "import time\n",
    "import numpy as np\n",
    "\n",
    "import easyocr,cv2\n",
    "reader = easyocr.Reader(['ch_sim','en'], gpu=True, detect_network = 'craft')\n",
    "path1 = '/disk2/workspace/csgoai/stone/csgo_ai/sample_data/./data/roth-1679837416-919064000/1679838637-040783600.jpg'\n",
    "path2 = '/disk2/workspace/csgoai/stone/csgo_ai/sample_data/./data/roth-1679837416-919064000/1679838637-288120500.jpg'\n",
    "img1 = cv2.imread(path1)\n",
    "img2 = cv2.imread(path2)\n",
    "\n",
    "path = '/disk2/workspace/csgoai/stone/csgo_ai/sample_data/./data/roth-1679837416-919064000/'\n",
    "\n",
    "#paragraph=reader.readtext_batched(self.imglist,batch_size=batchsize)\n",
    "#imgs = np.array([img1, img2,img2,img2,img2,img1, img2,img2,img2,img2,img1, img2,img2,img2,img2])# (101, 1080, 1920, 3)\n",
    "#imgs = [img1, img2,img2,img2,img2]\n",
    "\n",
    "%timeit out =reader.readtext(img1, detail=0)"
   ]
  }
 ],
 "metadata": {
  "kernelspec": {
   "display_name": "Python 3 (ipykernel)",
   "language": "python",
   "name": "python3"
  },
  "language_info": {
   "codemirror_mode": {
    "name": "ipython",
    "version": 3
   },
   "file_extension": ".py",
   "mimetype": "text/x-python",
   "name": "python",
   "nbconvert_exporter": "python",
   "pygments_lexer": "ipython3",
   "version": "3.9.12"
  }
 },
 "nbformat": 4,
 "nbformat_minor": 5
}
