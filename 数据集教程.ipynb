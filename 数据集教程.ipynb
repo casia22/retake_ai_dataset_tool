{
 "cells": [
  {
   "cell_type": "markdown",
   "id": "da24ce93-61d8-478f-bfbf-aa6331c49251",
   "metadata": {},
   "source": [
    "# csgoai数据集教程\n",
    "\n",
    "## 数据工作流\n",
    "### 1.玩家使用采集脚本上传\"id-时间戳.zip\"的录制文件\n",
    "注意：有的玩家可能没有开启权限导致录制的按键都是空的\n",
    "### 2.我们在本目录下载文件，忽略已有的文件"
   ]
  },
  {
   "cell_type": "code",
   "execution_count": 4,
   "id": "f41fa31e-cce7-42b1-a83b-dd2b05f2b327",
   "metadata": {
    "tags": []
   },
   "outputs": [
    {
     "name": "stdout",
     "output_type": "stream",
     "text": [
      "https://csgoai.oss-cn-beijing.aliyuncs.com/1679547341-910698400.zip\n",
      "https://csgoai.oss-cn-beijing.aliyuncs.com/1679671596-563688500.zip\n",
      "https://csgoai.oss-cn-beijing.aliyuncs.com/1679672018-278507700.zip\n",
      "https://csgoai.oss-cn-beijing.aliyuncs.com/gold.coin\n",
      "https://csgoai.oss-cn-beijing.aliyuncs.com/roth-1679758279-619661300.zip\n",
      "https://csgoai.oss-cn-beijing.aliyuncs.com/roth-1679831025-978929000.zip\n",
      "https://csgoai.oss-cn-beijing.aliyuncs.com/roth-1679834724-104942600.zip\n",
      "https://csgoai.oss-cn-beijing.aliyuncs.com/roth-1679836080-438787700.zip\n",
      "https://csgoai.oss-cn-beijing.aliyuncs.com/roth-1680278030-262170800.zip\n",
      "文件 “1679547341-910698400.zip” 已经存在；不获取。\n",
      "\n",
      "文件 “1679671596-563688500.zip” 已经存在；不获取。\n",
      "\n",
      "文件 “1679672018-278507700.zip” 已经存在；不获取。\n",
      "\n",
      "--2023-04-01 10:44:30--  https://csgoai.oss-cn-beijing.aliyuncs.com/gold.coin\n",
      "正在解析主机 csgoai.oss-cn-beijing.aliyuncs.com (csgoai.oss-cn-beijing.aliyuncs.com)... 59.110.190.28\n",
      "正在连接 csgoai.oss-cn-beijing.aliyuncs.com (csgoai.oss-cn-beijing.aliyuncs.com)|59.110.190.28|:443... 已连接。\n",
      "已发出 HTTP 请求，正在等待回应... 200 OK\n",
      "长度：1048576 (1.0M) [application/octet-stream]\n",
      "正在保存至: “gold.coin”\n",
      "\n",
      "gold.coin           100%[===================>]   1.00M  --.-KB/s  用时 0.03s     \n",
      "\n",
      "2023-04-01 10:44:30 (28.7 MB/s) - 已保存 “gold.coin” [1048576/1048576])\n",
      "\n",
      "文件 “roth-1679758279-619661300.zip” 已经存在；不获取。\n",
      "\n",
      "文件 “roth-1679831025-978929000.zip” 已经存在；不获取。\n",
      "\n",
      "文件 “roth-1679834724-104942600.zip” 已经存在；不获取。\n",
      "\n",
      "文件 “roth-1679836080-438787700.zip” 已经存在；不获取。\n",
      "\n",
      "--2023-04-01 10:44:30--  https://csgoai.oss-cn-beijing.aliyuncs.com/roth-1680278030-262170800.zip\n",
      "再次使用存在的到 csgoai.oss-cn-beijing.aliyuncs.com:443 的连接。\n",
      "已发出 HTTP 请求，正在等待回应... 200 OK\n",
      "长度：1612792560 (1.5G) [application/x-zip-compressed]\n",
      "正在保存至: “roth-1680278030-262170800.zip”\n",
      "\n",
      "roth-1680278030-262 100%[===================>]   1.50G  23.3MB/s  用时 66s       \n",
      "\n",
      "2023-04-01 10:45:36 (23.5 MB/s) - 已保存 “roth-1680278030-262170800.zip” [1612792560/1612792560])\n",
      "\n",
      "下载完毕 --2023-04-01 10:45:36--\n",
      "总用时：1m 6s\n",
      "下载了：2 个文件，1m 6s (23.5 MB/s) 中的 1.5G\n"
     ]
    }
   ],
   "source": [
    "import oss2\n",
    "import os,sys\n",
    "# 阿里云账号AccessKey拥有所有API的访问权限，风险很高。强烈建议您创建并使用RAM用户进行API访问或日常运维，请登录RAM控制台创建RAM用户。\n",
    "auth = oss2.Auth('xxxxxx', 'OCPCoZZibZkHq075Us3x3XkENgnqLM')\n",
    "# yourEndpoint填写Bucket所在地域对应的Endpoint。以华东1（杭州）为例，Endpoint填写为https://oss-cn-hangzhou.aliyuncs.com。\n",
    "# 填写Bucket名称。\n",
    "bucket = oss2.Bucket(auth, 'oss-cn-beijing.aliyuncs.com', 'csgoai')\n",
    "# 列举数据\n",
    "# 列举Bucket下的所有文件。\n",
    "file_url = []\n",
    "for obj in oss2.ObjectIterator(bucket):\n",
    "    url = 'https://csgoai.oss-cn-beijing.aliyuncs.com/'\n",
    "    path = url + obj.key \n",
    "    file_url.append(path)\n",
    "    print(url + obj.key)\n",
    "with open('download.txt', 'w') as f:\n",
    "    f.write('\\n'.join(file_url))\n",
    "!wget -nc -i download.txt"
   ]
  },
  {
   "cell_type": "markdown",
   "id": "b2fd065b-aa34-498a-84f4-e7044f5e863c",
   "metadata": {
    "tags": []
   },
   "source": [
    "### 3.解压下载下来的新数据，并忽略已解压数据"
   ]
  },
  {
   "cell_type": "code",
   "execution_count": 18,
   "id": "477d865b-ffda-44a5-973a-af9c2b881f40",
   "metadata": {
    "tags": []
   },
   "outputs": [
    {
     "name": "stdout",
     "output_type": "stream",
     "text": [
      "Archive:  1678773194-747264600.zip\n",
      "Archive:  1678773479-138390300.zip\n",
      "Archive:  1679547341-910698400.zip\n",
      "Archive:  1679671596-563688500.zip\n",
      "Archive:  1679672018-278507700.zip\n",
      "Archive:  roth-1679758279-619661300.zip\n",
      "Archive:  roth-1679831025-978929000.zip\n",
      "Archive:  roth-1679834724-104942600.zip\n",
      "Archive:  roth-1679836080-438787700.zip\n",
      "Archive:  roth-1680278030-262170800.zip\n"
     ]
    }
   ],
   "source": [
    "! for file in *.zip; do unzip -jn \"$file\" -d \"./data/${file%.*}\"; done"
   ]
  },
  {
   "cell_type": "markdown",
   "id": "002d5e20-fcb1-49f2-b6ca-a556111f9396",
   "metadata": {
    "tags": []
   },
   "source": [
    "### 4.运行数据OCR，提取玩家存活时的POV图片\n",
    "脚本会读取./data/目录下的文件夹，然后5进程识别每个目录下的图片。\n",
    "\n",
    "这里面涉及一些对玩家存活状态和死亡状态的OCR清洗规则。\n",
    "\n",
    "不同玩家的录制，因为其服务器不一样的缘故，可能要增加更多的规则。\n",
    "\n",
    "#### 基本逻辑：\n",
    "\n",
    "对每局开始的关键词，记录为1，结束关键词记录为2，其余为0. 然后提取1-2中间的图片。\n",
    "\n",
    "#### 输出：\n",
    "\n",
    "生成./cleaned_data/文件名.txt 里面包含存活状态相对路径的每一张图片。\n",
    "\n",
    "#### 注意，\n",
    "- 一个录制文件中，大概率玩家打了很多局，所以txt文件中包含多次录制而没有特殊标记。\n",
    "- 如果清洗规则没写好，那么就会出现一个视频识别空文件.txt的情况。\n",
    "\n",
    "#### todo：\n",
    "- OCR清洗速度太慢，即使采用并行的方式，速度也不理想，如何优化OCR性能？\n",
    "- OCR的精准度堪忧，很多时候会错误识别\n",
    "- 需要根据不同的数据来添加“开始帧”“结束帧”的清洗规则\n",
    "\n",
    "有两个脚本，一个是单进程ocr_clean.py 另一个是多进程ocr_clean_parallel.py, 多进程没有显著的快可是复杂些。\n",
    "l参数表示清洗最近的(这个功能可能需要改进，因为是按文件名sort的不是按时间戳)。\n",
    "n参数表示清洗指定文件夹名"
   ]
  },
  {
   "cell_type": "code",
   "execution_count": 8,
   "id": "1c9408b8-2ff4-4d67-8bde-2c6e25738a73",
   "metadata": {
    "tags": []
   },
   "outputs": [
    {
     "name": "stdout",
     "output_type": "stream",
     "text": [
      "num of folders: 10\n",
      "cleaning:  ./data/roth-1680278030-262170800 | num of files: 9585 | video length: 00:07:59\n",
      "[#################################################-] 100.0% 00:06:18 9584 \n",
      " cleaned to : ./cleaned_data/roth-1680278030-262170800.txt\n",
      "\n"
     ]
    }
   ],
   "source": [
    "!python ocr_clean_parallel.py -l "
   ]
  },
  {
   "cell_type": "markdown",
   "id": "cca4cb8a-3023-450e-9c3f-31538baf9ca7",
   "metadata": {
    "tags": []
   },
   "source": [
    "### 5. OCR清洗质量检查\n",
    "没有识别出玩家存活帧的文件会被ocr脚本写在cleaned_data/null_cleaned_files.txt\n",
    "\n",
    "一般来说遇到这种情况需要你手动点开原始图挨个debug。\n",
    "todo：\n",
    "- 一种更方便的方式来debug空文件？"
   ]
  },
  {
   "cell_type": "code",
   "execution_count": 11,
   "id": "28619991-92c8-4d36-83f1-5f3fe8480a59",
   "metadata": {
    "tags": []
   },
   "outputs": [
    {
     "name": "stdout",
     "output_type": "stream",
     "text": [
      "./cleaned_data/roth-1679834724-104942600.txt\n",
      "./cleaned_data/roth-1679831025-978929000.txt\n",
      "./cleaned_data/1679547341-910698400.txt\n",
      "./cleaned_data/1679671596-563688500.txt\n",
      "./cleaned_data/roth-1679836080-438787700.txt\n",
      "./cleaned_data/1679672018-278507700.txt"
     ]
    }
   ],
   "source": [
    "! cat cleaned_data/null_cleaned_files.txt"
   ]
  },
  {
   "cell_type": "markdown",
   "id": "79a9162f-f842-4077-96a3-fb140fc6c747",
   "metadata": {
    "tags": []
   },
   "source": [
    "### 6. 图像和动作标签匹配\n",
    "功能：\n",
    "- 用清洗后的./cleaned_data/录制名.txt中的图片时间戳 匹配 ./data/录制名/录制名.json中的wasd等动作行为。生成./cleaned_data/录制名_labelled.csv\n",
    "- 鼠标会前后做差计算出移动增量，然后按照tim Pearce的离散列表找一个最近的（也就是做离散化）\n",
    "\n",
    "todo：\n",
    "- 离散化的数值分布可能不是很合适，我们应该找一种直觉上可以方便表征玩家动作让ai学习的（自己画图统计）\n",
    "- mouse_x mouse_y 的定义不是很清楚，坐标原点一般来说在右上角。竖着是x还是横着是x？鼠标需要严格注意，目前没有梳理清楚！"
   ]
  },
  {
   "cell_type": "code",
   "execution_count": 12,
   "id": "f78b0b67-2d61-416a-bb76-80203622abb4",
   "metadata": {
    "tags": []
   },
   "outputs": [
    {
     "name": "stdout",
     "output_type": "stream",
     "text": [
      "json_files:\n",
      " ./data/roth-1679834724-104942600/roth-1679834724-104942600.json\n",
      "./data/roth-1679831025-978929000/roth-1679831025-978929000.json\n",
      "./data/1679547341-910698400/1679547341-910698400.json\n",
      "./data/1678773479-138390300/1678773479-138390300.json\n",
      "./data/roth-1679758279-619661300/roth-1679758279-619661300.json\n",
      "./data/1678773194-747264600/1678773194-747264600.json\n",
      "./data/1679671596-563688500/1679671596-563688500.json\n",
      "./data/roth-1680278030-262170800/roth-1680278030-262170800.json\n",
      "./data/roth-1679836080-438787700/roth-1679836080-438787700.json\n",
      "./data/1679672018-278507700/1679672018-278507700.json\n",
      "txt files with no death: \n",
      " ./cleaned_data/roth-1679834724-104942600.txt\n",
      "./cleaned_data/roth-1679831025-978929000.txt\n",
      "./cleaned_data/1679547341-910698400.txt\n",
      "./cleaned_data/1678773479-138390300.txt\n",
      "./cleaned_data/roth-1679758279-619661300.txt\n",
      "./cleaned_data/1678773194-747264600.txt\n",
      "./cleaned_data/1679671596-563688500.txt\n",
      "./cleaned_data/roth-1680278030-262170800.txt\n",
      "./cleaned_data/roth-1679836080-438787700.txt\n",
      "./cleaned_data/1679672018-278507700.txt\n",
      "empty text files: \n",
      " ./cleaned_data/roth-1679834724-104942600.txt\n",
      "./cleaned_data/roth-1679831025-978929000.txt\n",
      "./cleaned_data/1679547341-910698400.txt\n",
      "./cleaned_data/1679671596-563688500.txt\n",
      "./cleaned_data/roth-1680278030-262170800.txt\n",
      "./cleaned_data/roth-1679836080-438787700.txt\n",
      "./cleaned_data/1679672018-278507700.txt\n",
      "writing empty text files to file:  ./cleaned_data/null_cleaned_files.txt\n",
      "final txt file with no death: \n",
      " ./cleaned_data/1678773479-138390300.txt\n",
      "./cleaned_data/roth-1679758279-619661300.txt\n",
      "./cleaned_data/1678773194-747264600.txt\n",
      "\n",
      "---------------------\n",
      "\n",
      "\n",
      "---------------------\n",
      "\n",
      "\n",
      "---------------------\n",
      "\n",
      "\n",
      "---------------------\n",
      "\n",
      "\n",
      "---------------------\n",
      "\n",
      "processing json file: \n",
      "  ./data/1678773479-138390300/1678773479-138390300.json\n",
      "processing cleaned file: \n",
      "  ./cleaned_data/1678773479-138390300.txt\n",
      "finished processing json file:  ./data/1678773479-138390300/1678773479-138390300.json\n",
      "writing to file:  ./cleaned_data/1678773479-138390300_labelled.csv\n",
      "\n",
      "-------------------------------------\n",
      "\n",
      "processing json file: \n",
      "  ./data/roth-1679758279-619661300/roth-1679758279-619661300.json\n",
      "processing cleaned file: \n",
      "  ./cleaned_data/roth-1679758279-619661300.txt\n",
      "finished processing json file:  ./data/roth-1679758279-619661300/roth-1679758279-619661300.json\n",
      "writing to file:  ./cleaned_data/roth-1679758279-619661300_labelled.csv\n",
      "\n",
      "-------------------------------------\n",
      "\n",
      "processing json file: \n",
      "  ./data/1678773194-747264600/1678773194-747264600.json\n",
      "processing cleaned file: \n",
      "  ./cleaned_data/1678773194-747264600.txt\n",
      "finished processing json file:  ./data/1678773194-747264600/1678773194-747264600.json\n",
      "writing to file:  ./cleaned_data/1678773194-747264600_labelled.csv\n",
      "\n",
      "-------------------------------------\n",
      "\n"
     ]
    }
   ],
   "source": [
    "!python match_labels.py"
   ]
  },
  {
   "cell_type": "markdown",
   "id": "25681f4d-cf55-459e-9786-874c0b884a3f",
   "metadata": {
    "tags": []
   },
   "source": [
    "### 7.打包数据集为h5格式（包含图片和标签）\n",
    "h5py是Hierarchical Data Format version 5 (HDF5)数据集格式在python中的实现。\n",
    "\n",
    "打包后会输出到./h5_data/csgo_data_new.h5\n",
    "\n",
    "注，这里包含resize环节：（125, 200, 3） \n",
    "\n",
    "回合行为异常是检测到所有action都是0，一般情况是因为玩家录制的时候没有开管理员权限，这种情况把对应压缩包mv 成名字.zip.bak就好。因为我们要保留本地数据，用来对录制员的奖励。\n",
    "\n",
    "\n",
    "这种文件针对训练读取做了很强大的优化，让它从磁盘里读访问很快。\n",
    "```python\n",
    "f = h5py.File(path, 'r')\n",
    "datas = f[\"data\"]\n",
    "labels = f[\"label\"]\n",
    "ep1_imgs = datas[0]\n",
    "ep1_actions = labels[0] # (7, 1100, 125, 200, 3) 回合，帧数，图片尺度\n",
    "````\n",
    "这样就可以很方便的把数据读出来，同时很快。"
   ]
  },
  {
   "cell_type": "code",
   "execution_count": 14,
   "id": "1c3e3f05-e73b-46ef-bf45-ce7a6e94ad5d",
   "metadata": {
    "tags": []
   },
   "outputs": [
    {
     "name": "stdout",
     "output_type": "stream",
     "text": [
      "==========================开始处理：1678773194-747264600_labelled.csv=======================================\n",
      "preprocessing:  2023-04-01 11:38:28\n",
      "libpng error: Read Error\n",
      "None image at: /disk3/csgo_ai_data/./data/./1678773194-747264600/1678773232-344548700.png \n",
      "\n",
      "img_array_size = 28.97 MB\n",
      "done preprocessing:  2023-04-01 11:38:30  took time:00:00:01\n",
      "max time gap is 1s, saving as complete match\n",
      "-------------------------添加第1回合-405帧---------------------------\n",
      "sample length is 405, appending to 1100\n",
      "==========================开始处理：1678773479-138390300_labelled.csv=======================================\n",
      "preprocessing:  2023-04-01 11:38:30\n",
      "img_array_size = 1.50 MB\n",
      "done preprocessing:  2023-04-01 11:38:30  took time:00:00:00\n",
      "max time gap is 1s, saving as complete match\n",
      "-------------------------添加第2回合-21帧---------------------------\n",
      "回合行为异常，不添加\n",
      "==========================开始处理：roth-1679758279-619661300_labelled.csv=======================================\n",
      "preprocessing:  2023-04-01 11:38:30\n",
      "img_array_size = 539.23 MB\n",
      "done preprocessing:  2023-04-01 11:38:57  took time:00:00:26\n",
      "max time gap is 87s, saving as separate match\n",
      "saving separate match at 697 with interval 4 len698\n",
      "-------------------------添加第2回合-698帧---------------------------\n",
      "回合行为异常，不添加\n",
      "saving separate match at 1503 with interval 30 len1504\n",
      "-------------------------添加第2回合-1504帧---------------------------\n",
      "回合行为异常，不添加\n",
      "saving separate match at 2227 with interval 4 len2228\n",
      "-------------------------添加第2回合-2228帧---------------------------\n",
      "回合行为异常，不添加\n",
      "saving separate match at 3736 with interval 5 len3109\n",
      "-------------------------添加第2回合-3109帧---------------------------\n",
      "回合行为异常，不添加\n",
      "saving separate match at 4245 with interval 8 len0\n",
      "-------------------------添加第2回合-0帧---------------------------\n",
      "回合长度 < 20, 不添加\n",
      "saving separate match at 4845 with interval 4 len0\n",
      "-------------------------添加第2回合-0帧---------------------------\n",
      "回合长度 < 20, 不添加\n",
      "saving separate match at 5316 with interval 9 len0\n",
      "-------------------------添加第2回合-0帧---------------------------\n",
      "回合长度 < 20, 不添加\n",
      "saving separate match at 7020 with interval 87 len0\n",
      "-------------------------添加第2回合-0帧---------------------------\n",
      "回合长度 < 20, 不添加\n",
      "saving last separate match at 7537 with interval 0 len0\n",
      "-------------------------添加第2回合-0帧---------------------------\n",
      "回合长度 < 20, 不添加\n"
     ]
    }
   ],
   "source": [
    "!python pack_h5_dataset_parallel.py"
   ]
  },
  {
   "cell_type": "markdown",
   "id": "d8fb42bb-0447-4fd6-8ac5-e045c57af0b9",
   "metadata": {
    "tags": []
   },
   "source": [
    "### 7.打包后的数据集质量检查\n",
    "这个脚本有待加强，里面对玩家鼠标的逻辑还没有搞清楚。\n",
    "鼠标的可视化也很粗糙。"
   ]
  },
  {
   "cell_type": "code",
   "execution_count": 17,
   "id": "2f1d1643-dc7a-4e38-a611-d1cc58e60844",
   "metadata": {
    "tags": []
   },
   "outputs": [
    {
     "name": "stderr",
     "output_type": "stream",
     "text": [
      "\n",
      "KeyboardInterrupt\n",
      "\n"
     ]
    },
    {
     "data": {
      "image/png": "[encoded data removed]",
      "text/plain": [
       "<Figure size 432x288 with 1 Axes>"
      ]
     },
     "metadata": {
      "needs_background": "light"
     },
     "output_type": "display_data"
    }
   ],
   "source": [
    "import h5py\n",
    "import numpy as np\n",
    "import matplotlib.pyplot as plt\n",
    "from IPython.display import clear_output, display\n",
    "\n",
    "path = './h5_data/csgo_data_new.h5'\n",
    "f = h5py.File(path, 'r')\n",
    "data = f[\"data\"]\n",
    "label = f[\"label\"]\n",
    "shape = data.shape\n",
    "# 选择一个回合\n",
    "ep = 0\n",
    "data = data[ep]\n",
    "label = label[ep]\n",
    "print(f'总共有{shape[0]}个回合, 数据shape为{shape}, 选择查看第{ep}回合')\n",
    "\n",
    "# 在图像中央创建箭头\n",
    "x_center = data.shape[2] // 2\n",
    "y_center = data.shape[1] // 2\n",
    "\n",
    "# visualize numpy array \n",
    "for i in range(data.shape[0]):\n",
    "    clear_output(wait=True)\n",
    "    plt.clf()\n",
    "    # 对label进行处理\n",
    "    mouse_x,mouse_y,click_left,click_right,scroll,w,a,s,d,r,q,e,b,k_1,k_2,k_3,k_4,k_5,k_6,k_7,k_8,k_9,k_0,shift,space,ctrl = label[i]\n",
    "\n",
    "    # 处理箭头\n",
    "    vector_x = mouse_x *10 #* (x_center // 4)  # 向量长度为图像宽度的四分之一\n",
    "    vector_y = mouse_y *10 #* (y_center // 4)  # 向量长度为图像高度的四分之一\n",
    "    plt.arrow(x_center, y_center, vector_x, vector_y,\n",
    "          color=\"r\", head_width=10, head_length=10)\n",
    "    \n",
    "    plt.imshow(data[i])\n",
    "    plt.title(f\"Label: dx:{mouse_x} dy:{mouse_y} l_c {click_left}, w: {w}, a: {a}, s: {s}, d:{d}\")\n",
    "    display(plt.gcf())"
   ]
  },
  {
   "cell_type": "code",
   "execution_count": null,
   "id": "8f24598e-54b9-4220-aef5-087f9e522d42",
   "metadata": {},
   "outputs": [],
   "source": []
  }
 ],
 "metadata": {
  "kernelspec": {
   "display_name": "Python 3 (ipykernel)",
   "language": "python",
   "name": "python3"
  },
  "language_info": {
   "codemirror_mode": {
    "name": "ipython",
    "version": 3
   },
   "file_extension": ".py",
   "mimetype": "text/x-python",
   "name": "python",
   "nbconvert_exporter": "python",
   "pygments_lexer": "ipython3",
   "version": "3.9.12"
  }
 },
 "nbformat": 4,
 "nbformat_minor": 5
}
