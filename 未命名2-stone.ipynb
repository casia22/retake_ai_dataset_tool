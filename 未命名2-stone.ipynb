{
 "cells": [
  {
   "cell_type": "code",
   "execution_count": 1,
   "id": "24cd1c6c-c7f3-4626-b870-1678d71241ea",
   "metadata": {
    "tags": []
   },
   "outputs": [],
   "source": [
    "flag_list = [0,0,1,1,0,0,0,2,2,0,0,1]\n",
    "paths = [11,22,33,44,55,66,77,88,99,10,11,12]"
   ]
  },
  {
   "cell_type": "code",
   "execution_count": 2,
   "id": "104d568d-56f7-4b5c-ac90-7279e2bdc91d",
   "metadata": {
    "tags": []
   },
   "outputs": [],
   "source": [
    "start_indices = [i for i, flag in enumerate(flag_list) if flag == 1]\n",
    "end_indices = [i for i, flag in enumerate(flag_list) if flag == 2]"
   ]
  },
  {
   "cell_type": "code",
   "execution_count": 5,
   "id": "f641d23d-a092-461c-b77b-53db4f339982",
   "metadata": {
    "tags": []
   },
   "outputs": [
    {
     "name": "stdout",
     "output_type": "stream",
     "text": [
      "append  44\n",
      "append  55\n",
      "append  66\n",
      "append  77\n",
      "append  88\n",
      "append  12\n"
     ]
    },
    {
     "data": {
      "text/plain": [
       "[44, 55, 66, 77, 88, 12]"
      ]
     },
     "execution_count": 5,
     "metadata": {},
     "output_type": "execute_result"
    }
   ],
   "source": [
    "alive_paths = []\n",
    "is_alive = 0\n",
    "for i,path in enumerate(paths):    \n",
    "    if (flag_list[i]==1 or is_alive==1):\n",
    "        is_alive = 1\n",
    "        alive_paths.append(path)\n",
    "    if flag_list[i]==2:\n",
    "        is_alive = 0\n",
    "        \n",
    "steps = [i for in range(len(alive_paths))]\n",
    "is_dones = [i for in range(len(alive_paths)-1)] + [1]\n",
    "o_paths,"
   ]
  },
  {
   "cell_type": "code",
   "execution_count": null,
   "id": "e7649369-95ac-4fc9-9d76-f872accba3ce",
   "metadata": {},
   "outputs": [],
   "source": []
  }
 ],
 "metadata": {
  "kernelspec": {
   "display_name": "Python 3 (ipykernel)",
   "language": "python",
   "name": "python3"
  },
  "language_info": {
   "codemirror_mode": {
    "name": "ipython",
    "version": 3
   },
   "file_extension": ".py",
   "mimetype": "text/x-python",
   "name": "python",
   "nbconvert_exporter": "python",
   "pygments_lexer": "ipython3",
   "version": "3.9.12"
  }
 },
 "nbformat": 4,
 "nbformat_minor": 5
}
