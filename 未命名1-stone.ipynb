{
 "cells": [
  {
   "cell_type": "code",
   "execution_count": 22,
   "id": "5ccb15e8-f636-46b1-b10b-829aa6ec1641",
   "metadata": {
    "tags": []
   },
   "outputs": [],
   "source": [
    "import cv2"
   ]
  },
  {
   "cell_type": "code",
   "execution_count": 23,
   "id": "400f4605-c4a4-4cd4-8883-d37773a533ef",
   "metadata": {
    "tags": []
   },
   "outputs": [
    {
     "name": "stdout",
     "output_type": "stream",
     "text": [
      "/disk2/workspace/csgoai/stone/csgo_ai/sample_data/data/roth-1679837416-919064000/1679839124-203183400.jpg\n"
     ]
    }
   ],
   "source": [
    "path = '/disk2/workspace/csgoai/stone/csgo_ai/sample_data/data/roth-1679837416-919064000/1679839124-203183400.jpg'\n",
    "!ls /disk2/workspace/csgoai/stone/csgo_ai/sample_data/data/roth-1679837416-919064000/1679839124-203183400.jpg"
   ]
  },
  {
   "cell_type": "code",
   "execution_count": 24,
   "id": "209b6cba-3405-40e9-86ac-02b5d435baf1",
   "metadata": {
    "tags": []
   },
   "outputs": [
    {
     "name": "stdout",
     "output_type": "stream",
     "text": [
      "124 ms ± 486 µs per loop (mean ± std. dev. of 7 runs, 10 loops each)\n"
     ]
    }
   ],
   "source": [
    "img = cv2.imread(path)\n",
    "%timeit imgs = [cv2.resize(img,(768, 1024)) for each in range(180)]"
   ]
  },
  {
   "cell_type": "code",
   "execution_count": 32,
   "id": "510917e2-5d2e-40be-b2ee-1e17e5c60f05",
   "metadata": {
    "tags": []
   },
   "outputs": [],
   "source": [
    "import os\n",
    "base = '/disk3/csgo_bak/csgo_ai_data/data/roth-1679837416-919064000/'\n",
    "names = os.listdir(base)\n",
    "names = [base+each for each in names][:180]"
   ]
  },
  {
   "cell_type": "code",
   "execution_count": 33,
   "id": "11eb07dc-c75e-4120-86d8-d329babf40c0",
   "metadata": {
    "tags": []
   },
   "outputs": [
    {
     "name": "stdout",
     "output_type": "stream",
     "text": [
      "3.46 s ± 1.18 ms per loop (mean ± std. dev. of 7 runs, 1 loop each)\n"
     ]
    }
   ],
   "source": [
    "%timeit imgs = [cv2.imread(each) for each in names]"
   ]
  },
  {
   "cell_type": "code",
   "execution_count": 41,
   "id": "056cfd02-33b4-4380-b496-e6b69a1e3f1d",
   "metadata": {
    "tags": []
   },
   "outputs": [
    {
     "name": "stdout",
     "output_type": "stream",
     "text": [
      "3.23 s ± 2.58 ms per loop (mean ± std. dev. of 7 runs, 1 loop each)\n"
     ]
    }
   ],
   "source": [
    "base = '/disk3/tt/'\n",
    "names = os.listdir(base)\n",
    "names = [base+each for each in names][:180]\n",
    "%timeit imgs = [cv2.imread(each) for each in names]"
   ]
  },
  {
   "cell_type": "code",
   "execution_count": 42,
   "id": "7fdbd598-2e62-4b7f-8c73-5f28561cad53",
   "metadata": {
    "tags": []
   },
   "outputs": [
    {
     "name": "stdout",
     "output_type": "stream",
     "text": [
      "3.25 s ± 3.59 ms per loop (mean ± std. dev. of 7 runs, 1 loop each)\n"
     ]
    }
   ],
   "source": [
    "base2 = '/home/ai/stone/test/roth-1679837416-919064000/'\n",
    "names = os.listdir(base2)\n",
    "names = [base2+each for each in names][:180]\n",
    "%timeit imgs = [cv2.imread(each) for each in names]"
   ]
  },
  {
   "cell_type": "code",
   "execution_count": null,
   "id": "e70dc902-eea1-4b97-b88c-af3810002f94",
   "metadata": {},
   "outputs": [],
   "source": [
    "from concurrent.futures import ProcessPoolExecutor\n",
    "import numpy as np\n",
    "import cv2\n",
    "\n",
    "def load_images(img_paths):\n",
    "    img_array = np.zeros((len(img_paths),3,150,280), dtype=np.uint8)\n",
    "    for i, img_path in enumerate(img_paths):\n",
    "        img_array[i, :, :, :] = img_preprocess(cv2.resize(cv2.imread(img_path), (768, 1024)))\n",
    "    return img_array\n",
    "\n",
    "def parallel_load_images(img_paths, num_workers=4):\n",
    "    img_chunks = np.array_split(img_paths, num_workers)\n",
    "    results = None\n",
    "    \n",
    "    with ProcessPoolExecutor(max_workers=num_workers) as executor:\n",
    "        futures = [executor.submit(load_images, chunk) for chunk in img_chunks]\n",
    "        results = [f.result() for f in futures]\n",
    "\n",
    "    return np.concatenate(results, axis=0)\n",
    "\n",
    "img_paths = [...] # 图像路径列表\n",
    "img_array = parallel_load_images(img_paths)\n",
    "@顺序不变 可以多进程加载图像和预处理"
   ]
  },
  {
   "cell_type": "code",
   "execution_count": 44,
   "id": "9c007e25-2d2b-41fc-99d4-27f76b2d49ee",
   "metadata": {
    "tags": []
   },
   "outputs": [
    {
     "name": "stdout",
     "output_type": "stream",
     "text": [
      "总时间： 3.1849722862243652 s\n"
     ]
    }
   ],
   "source": [
    "import cv2\n",
    "import os\n",
    "import time\n",
    "\n",
    "start_time = time.time()\n",
    "\n",
    "# 设置文件夹路径\n",
    "folder_path = base2#'C:/your/folder/path/'\n",
    "\n",
    "# 遍历文件夹并读取图像\n",
    "for filename in os.listdir(folder_path)[:180]:\n",
    "    if filename.endswith('.jpg'):\n",
    "        filepath = os.path.join(folder_path, filename)\n",
    "        img = cv2.imread(filepath)\n",
    "        # 对图像进行处理\n",
    "        # ...\n",
    "\n",
    "end_time = time.time()\n",
    "total_time = end_time - start_time\n",
    "print('总时间：', total_time, 's')"
   ]
  },
  {
   "cell_type": "code",
   "execution_count": 48,
   "id": "0b05d09a-8326-497b-9c93-da4d1d016502",
   "metadata": {
    "tags": []
   },
   "outputs": [
    {
     "name": "stdout",
     "output_type": "stream",
     "text": [
      "40\n",
      "总时间： 0.9338948726654053 s\n"
     ]
    }
   ],
   "source": [
    "import cv2\n",
    "import os\n",
    "import time\n",
    "from multiprocessing import Pool, cpu_count\n",
    "\n",
    "# 设置文件夹路径\n",
    "folder_path = base2#'C:/your/folder/path/'\n",
    "num_processes = cpu_count()  # 获取CPU核心数\n",
    "print(num_processes)\n",
    "\n",
    "def process_image(filename):\n",
    "    if filename.endswith('.jpg'):\n",
    "        filepath = os.path.join(folder_path, filename)\n",
    "        img = cv2.imread(filepath)\n",
    "        # 对图像进行处理\n",
    "        # ...\n",
    "\n",
    "start_time = time.time()\n",
    "\n",
    "# 创建进程池并以并行方式处理所有图像\n",
    "with Pool(num_processes) as p:\n",
    "    p.map(process_image, os.listdir(folder_path)[:180])\n",
    "\n",
    "end_time = time.time()\n",
    "total_time = end_time - start_time\n",
    "print('总时间：', total_time, 's')\n"
   ]
  },
  {
   "cell_type": "code",
   "execution_count": 49,
   "id": "f030b958-cf3e-47aa-8c0a-fa89d1dd907b",
   "metadata": {
    "tags": []
   },
   "outputs": [
    {
     "name": "stdout",
     "output_type": "stream",
     "text": [
      "总时间：0.80秒\n"
     ]
    }
   ],
   "source": [
    "import os\n",
    "import time\n",
    "from concurrent.futures import ProcessPoolExecutor\n",
    "import cv2\n",
    "\n",
    "# 设置路径\n",
    "folder_path = base2#'C:/your/folder/path/'\n",
    "\n",
    "def process_image(filename):\n",
    "    if filename.endswith('.jpg'):\n",
    "        filepath = os.path.join(folder_path, filename)\n",
    "        img = cv2.imread(filepath)\n",
    "        # 对图像进行处理\n",
    "        # ...\n",
    "\n",
    "start_time = time.time()\n",
    "\n",
    "with ProcessPoolExecutor() as executor:\n",
    "    executor.map(process_image, os.listdir(folder_path)[:180])\n",
    "\n",
    "end_time = time.time()\n",
    "total_time = end_time - start_time\n",
    "\n",
    "print(f\"总时间：{total_time:.2f}秒\")\n"
   ]
  },
  {
   "cell_type": "code",
   "execution_count": 50,
   "id": "f453c6a0-5010-486a-9701-b22cdbcef350",
   "metadata": {
    "tags": []
   },
   "outputs": [
    {
     "ename": "TypeError",
     "evalue": "__init__() got an unexpected keyword argument 'close_fd'",
     "output_type": "error",
     "traceback": [
      "\u001b[0;31m---------------------------------------------------------------------------\u001b[0m",
      "\u001b[0;31mTypeError\u001b[0m                                 Traceback (most recent call last)",
      "Input \u001b[0;32mIn [50]\u001b[0m, in \u001b[0;36m<cell line: 24>\u001b[0;34m()\u001b[0m\n\u001b[1;32m     28\u001b[0m     np_img \u001b[38;5;241m=\u001b[39m np\u001b[38;5;241m.\u001b[39mndarray(img\u001b[38;5;241m.\u001b[39mshape, dtype\u001b[38;5;241m=\u001b[39mimg\u001b[38;5;241m.\u001b[39mdtype, buffer\u001b[38;5;241m=\u001b[39mshm_img\u001b[38;5;241m.\u001b[39mbuf)\n\u001b[1;32m     29\u001b[0m     np_img[:] \u001b[38;5;241m=\u001b[39m img[:]\n\u001b[0;32m---> 30\u001b[0m     \u001b[43mshm\u001b[49m\u001b[38;5;241;43m.\u001b[39;49m\u001b[43mSharedMemory\u001b[49m\u001b[43m(\u001b[49m\u001b[43mclose_fd\u001b[49m\u001b[38;5;241;43m=\u001b[39;49m\u001b[38;5;28;43;01mTrue\u001b[39;49;00m\u001b[43m,\u001b[49m\u001b[43m \u001b[49m\u001b[43mname\u001b[49m\u001b[38;5;241;43m=\u001b[39;49m\u001b[43mshm_name\u001b[49m\u001b[43m)\u001b[49m\n\u001b[1;32m     32\u001b[0m \u001b[38;5;66;03m# 处理图像的函数\u001b[39;00m\n\u001b[1;32m     33\u001b[0m \u001b[38;5;28;01mdef\u001b[39;00m \u001b[38;5;21mprocess_image\u001b[39m(idx):\n",
      "\u001b[0;31mTypeError\u001b[0m: __init__() got an unexpected keyword argument 'close_fd'"
     ]
    }
   ],
   "source": [
    "import cv2\n",
    "import os\n",
    "import time\n",
    "from concurrent.futures import ProcessPoolExecutor, as_completed\n",
    "import numpy as np\n",
    "import multiprocessing.shared_memory as shm\n",
    "\n",
    "# 设置文件夹路径和读取未压缩图像\n",
    "folder_path = base2#'C:/your/folder/path/'\n",
    "read_mode = cv2.IMREAD_UNCHANGED\n",
    "\n",
    "# 加载所有图像到内存中\n",
    "imgs_buffer = []\n",
    "for filename in os.listdir(folder_path)[:180]:\n",
    "    if not filename.endswith('.jpg'):\n",
    "        continue\n",
    "    filepath = os.path.join(folder_path, filename)\n",
    "    img = cv2.imread(filepath, read_mode)\n",
    "    imgs_buffer.append(img)\n",
    "\n",
    "# 将图像数据共享给各个进程\n",
    "\n",
    "shms = []\n",
    "for i, img in enumerate(imgs_buffer):\n",
    "    shm_name = f\"img_{i}\"\n",
    "    shm_img = shm.SharedMemory(create=True, size=img.nbytes, name=shm_name)\n",
    "    shms.append(shm_img)\n",
    "    np_img = np.ndarray(img.shape, dtype=img.dtype, buffer=shm_img.buf)\n",
    "    np_img[:] = img[:]\n",
    "    shm.SharedMemory(close_fd=True, name=shm_name)\n",
    "\n",
    "# 处理图像的函数\n",
    "def process_image(idx):\n",
    "    shm_name = f\"img_{idx}\"\n",
    "    shm_img = shm.SharedMemory(name=shm_name)\n",
    "    img = np.ndarray(shape=imgs_buffer[idx].shape, dtype=imgs_buffer[idx].dtype,\n",
    "                     buffer=shm_img.buf)\n",
    "    # 对图像进行处理\n",
    "    # ...\n",
    "\n",
    "\n",
    "\n",
    "start_time = time.time()\n",
    "\n",
    "with ProcessPoolExecutor() as executor:\n",
    "    futures = [executor.submit(process_image, i) for i in range(len(imgs_buffer))]\n",
    "\n",
    "    # 等待所有任务完成\n",
    "    for future in as_completed(futures):\n",
    "        if future.exception() is not None:\n",
    "            print(f\"Exception: {future.exception()}\")\n",
    "\n",
    "end_time = time.time()\n",
    "total_time = end_time - start_time\n",
    "\n",
    "print(f\"总时间：{total_time:.2f}秒\")\n",
    "\n",
    "for shm_img in shms:\n",
    "    shm_img.close()\n",
    "    shm_img.unlink()\n"
   ]
  },
  {
   "cell_type": "code",
   "execution_count": 7,
   "id": "9a8124a2-4c11-42ee-ad95-7a20fd89b06e",
   "metadata": {
    "tags": []
   },
   "outputs": [
    {
     "data": {
      "text/plain": [
       "22500.0"
      ]
     },
     "execution_count": 7,
     "metadata": {},
     "output_type": "execute_result"
    }
   ],
   "source": [
    "import numpy as np\n",
    "a = np.zeros((10000,3,1024,768), dtype=np.uint8)\n",
    "a.nbytes / 1024 / 1024\n",
    "#4*1024*768*3*1100/1024/1024"
   ]
  },
  {
   "cell_type": "code",
   "execution_count": null,
   "id": "d627a0bb-634b-434a-987c-58d9a6803533",
   "metadata": {},
   "outputs": [],
   "source": [
    "# 读取数据\n",
    "class MyDataset(data.Dataset):\n",
    "    def __init__(self, archive,image='image',mask='mask'):\n",
    "        self.archive = h5py.File(archive, 'r')\n",
    "        self.data = self.archive[image]\n",
    "        self.labels = self.archive[mask]\n",
    "\n",
    "    def __getitem__(self, index):\n",
    "        image = self.data[index]\n",
    "        mask = self.get_multi_class_labels(self.labels[index])\n",
    "        return image, mask\n",
    "\n",
    "    def __len__(self):\n",
    "        return len(self.labels)\n",
    "\n",
    "    def get_multi_class_labels(self,truth, n_labels=3, labels=(0, 1, 2)):\n",
    "        new_shape =  [n_labels, ]+list(truth.shape[1:])\n",
    "        y = np.zeros(new_shape, np.int8)\n",
    "        for label_index in range(n_labels):\n",
    "            if labels is not None:\n",
    "                y[label_index, :, :][truth[0, :, :] == labels[label_index]] = 1\n",
    "            else:\n",
    "                y[label_index, :, :][truth[0, :, :] == label_index] = 1\n",
    "        return y\n",
    "\n",
    "    def close(self):\n",
    "        self.archive.close()\n"
   ]
  }
 ],
 "metadata": {
  "kernelspec": {
   "display_name": "Python 3 (ipykernel)",
   "language": "python",
   "name": "python3"
  },
  "language_info": {
   "codemirror_mode": {
    "name": "ipython",
    "version": 3
   },
   "file_extension": ".py",
   "mimetype": "text/x-python",
   "name": "python",
   "nbconvert_exporter": "python",
   "pygments_lexer": "ipython3",
   "version": "3.9.12"
  }
 },
 "nbformat": 4,
 "nbformat_minor": 5
}
