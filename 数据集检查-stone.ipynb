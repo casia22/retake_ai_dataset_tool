{
 "cells": [
  {
   "cell_type": "code",
   "execution_count": 1,
   "id": "4d5f7910-cd6b-4f6a-9b92-1def034cfb63",
   "metadata": {
    "tags": []
   },
   "outputs": [],
   "source": [
    "import h5py\n",
    "import numpy as np\n",
    "import matplotlib.pyplot as plt\n",
    "from IPython.display import clear_output, display"
   ]
  },
  {
   "cell_type": "code",
   "execution_count": 2,
   "id": "2fc5e1b0-d9e9-45f6-ad84-9305f4999bad",
   "metadata": {
    "tags": []
   },
   "outputs": [
    {
     "name": "stdout",
     "output_type": "stream",
     "text": [
      "总共有7个回合, 数据shape为(7, 1100, 125, 200, 3), 选择查看第1回合\n"
     ]
    }
   ],
   "source": [
    "path = './h5_data/csgo_data_new.h5'\n",
    "f = h5py.File(path, 'r')\n",
    "data = f[\"data\"]\n",
    "label = f[\"label\"]\n",
    "shape = data.shape\n",
    "# 选择一个回合\n",
    "ep = 1\n",
    "data = data[ep]\n",
    "label = label[ep]\n",
    "print(f'总共有{shape[0]}个回合, 数据shape为{shape}, 选择查看第{ep}回合')"
   ]
  },
  {
   "cell_type": "code",
   "execution_count": 3,
   "id": "8f023096-683a-4e37-907a-eb8e66a040d6",
   "metadata": {
    "tags": []
   },
   "outputs": [],
   "source": [
    "# 在图像中央创建箭头\n",
    "x_center = data.shape[2] // 2\n",
    "y_center = data.shape[1] // 2"
   ]
  },
  {
   "cell_type": "code",
   "execution_count": null,
   "id": "1f9cf91f-90d3-4f1f-8aad-ceb512a0721a",
   "metadata": {
    "tags": []
   },
   "outputs": [],
   "source": [
    "# visualize numpy array \n",
    "for i in range(data.shape[0]):\n",
    "    clear_output(wait=True)\n",
    "    plt.clf()\n",
    "    # 对label进行处理\n",
    "    mouse_x,mouse_y,click_left,click_right,scroll,w,a,s,d,r,q,e,b,k_1,k_2,k_3,k_4,k_5,k_6,k_7,k_8,k_9,k_0,shift,space,ctrl = label[i]\n",
    "\n",
    "    # 处理箭头\n",
    "    vector_x = mouse_x *10 #* (x_center // 4)  # 向量长度为图像宽度的四分之一\n",
    "    vector_y = mouse_y *10 #* (y_center // 4)  # 向量长度为图像高度的四分之一\n",
    "    plt.arrow(x_center, y_center, vector_x, vector_y,\n",
    "          color=\"r\", head_width=10, head_length=10)\n",
    "    \n",
    "    plt.imshow(data[i])\n",
    "    plt.title(f\"Label: dx:{mouse_x} dy:{mouse_y} l_c {click_left}, w: {w}, a: {a}, s: {s}, d:{d}\")\n",
    "    display(plt.gcf())"
   ]
  },
  {
   "cell_type": "code",
   "execution_count": 5,
   "id": "159da765-6d2b-4ac7-9dfb-fe75841442c6",
   "metadata": {
    "tags": []
   },
   "outputs": [
    {
     "data": {
      "text/plain": [
       "0.0"
      ]
     },
     "execution_count": 5,
     "metadata": {},
     "output_type": "execute_result"
    }
   ],
   "source": [
    "np.sum(label[:,2:])"
   ]
  },
  {
   "cell_type": "code",
   "execution_count": null,
   "id": "2a0de2bf-ee0b-492c-b434-fdda3b830d01",
   "metadata": {},
   "outputs": [],
   "source": []
  }
 ],
 "metadata": {
  "kernelspec": {
   "display_name": "Python 3 (ipykernel)",
   "language": "python",
   "name": "python3"
  },
  "language_info": {
   "codemirror_mode": {
    "name": "ipython",
    "version": 3
   },
   "file_extension": ".py",
   "mimetype": "text/x-python",
   "name": "python",
   "nbconvert_exporter": "python",
   "pygments_lexer": "ipython3",
   "version": "3.9.12"
  }
 },
 "nbformat": 4,
 "nbformat_minor": 5
}
